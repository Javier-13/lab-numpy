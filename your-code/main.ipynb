{
 "cells": [
  {
   "cell_type": "markdown",
   "metadata": {},
   "source": [
    "# Intrduction to NumPy\n",
    "\n",
    "\n",
    "#### 1. Import NumPy under the name np."
   ]
  },
  {
   "cell_type": "code",
   "execution_count": 1,
   "metadata": {},
   "outputs": [],
   "source": [
    "# your code here\n",
    "import numpy as np"
   ]
  },
  {
   "cell_type": "markdown",
   "metadata": {},
   "source": [
    "#### 2. Print your NumPy version."
   ]
  },
  {
   "cell_type": "code",
   "execution_count": 2,
   "metadata": {},
   "outputs": [
    {
     "name": "stdout",
     "output_type": "stream",
     "text": [
      "1.16.4\n"
     ]
    }
   ],
   "source": [
    "# your code here\n",
    "print(np.__version__)"
   ]
  },
  {
   "cell_type": "markdown",
   "metadata": {},
   "source": [
    "#### 3. Generate a 2x3x5 3-dimensional array with random values. Assign the array to variable *a*.\n",
    "**Challenge**: there are at least three easy ways that use numpy to generate random arrays. How many ways can you find?"
   ]
  },
  {
   "cell_type": "code",
   "execution_count": 3,
   "metadata": {},
   "outputs": [],
   "source": [
    "# Method 1\n",
    "a = np.random.rand(2,3,5)"
   ]
  },
  {
   "cell_type": "code",
   "execution_count": 4,
   "metadata": {},
   "outputs": [],
   "source": [
    "# Method 2\n",
    "m2 = np.random.randint(1, 10, (2, 3, 5)) "
   ]
  },
  {
   "cell_type": "code",
   "execution_count": 5,
   "metadata": {},
   "outputs": [],
   "source": [
    "# Method 3\n",
    "m3 = np.random.random((2,3,5))"
   ]
  },
  {
   "cell_type": "markdown",
   "metadata": {},
   "source": [
    "#### 4. Print *a*.\n"
   ]
  },
  {
   "cell_type": "code",
   "execution_count": 6,
   "metadata": {},
   "outputs": [
    {
     "name": "stdout",
     "output_type": "stream",
     "text": [
      "[[[0.4863596  0.02844845 0.99599145 0.32329176 0.86755782]\n",
      "  [0.20076769 0.89749308 0.88480578 0.91370289 0.91713023]\n",
      "  [0.77402894 0.82650886 0.45105532 0.42033567 0.34015283]]\n",
      "\n",
      " [[0.14023427 0.17429746 0.59744036 0.86857336 0.91742186]\n",
      "  [0.20545632 0.46368593 0.47787408 0.83753284 0.97641213]\n",
      "  [0.47873022 0.86950503 0.17857959 0.17597742 0.16222638]]]\n"
     ]
    }
   ],
   "source": [
    "# your code here\n",
    "print(a)"
   ]
  },
  {
   "cell_type": "markdown",
   "metadata": {},
   "source": [
    "#### 5. Create a 5x2x3 3-dimensional array with all values equaling 1. Assign the array to variable *b*."
   ]
  },
  {
   "cell_type": "code",
   "execution_count": 7,
   "metadata": {},
   "outputs": [],
   "source": [
    "# your code here\n",
    "b = np.ones(((5,2,3)))"
   ]
  },
  {
   "cell_type": "markdown",
   "metadata": {},
   "source": [
    "#### 6. Print *b*.\n"
   ]
  },
  {
   "cell_type": "code",
   "execution_count": 8,
   "metadata": {},
   "outputs": [
    {
     "name": "stdout",
     "output_type": "stream",
     "text": [
      "[[[1. 1. 1.]\n",
      "  [1. 1. 1.]]\n",
      "\n",
      " [[1. 1. 1.]\n",
      "  [1. 1. 1.]]\n",
      "\n",
      " [[1. 1. 1.]\n",
      "  [1. 1. 1.]]\n",
      "\n",
      " [[1. 1. 1.]\n",
      "  [1. 1. 1.]]\n",
      "\n",
      " [[1. 1. 1.]\n",
      "  [1. 1. 1.]]]\n"
     ]
    }
   ],
   "source": [
    "# your code here\n",
    "print(b)"
   ]
  },
  {
   "cell_type": "markdown",
   "metadata": {},
   "source": [
    "#### 7. Do *a* and *b* have the same size? How do you prove that in Python code?"
   ]
  },
  {
   "cell_type": "code",
   "execution_count": 9,
   "metadata": {},
   "outputs": [
    {
     "name": "stdout",
     "output_type": "stream",
     "text": [
      "They do not have the same size\n"
     ]
    }
   ],
   "source": [
    "# your code here\n",
    "if np.shape(a) == np.shape(b):\n",
    "    print(\"They do have the same size\")\n",
    "else: print(\"They do not have the same size\")"
   ]
  },
  {
   "cell_type": "markdown",
   "metadata": {},
   "source": [
    "#### 8. Are you able to add *a* and *b*? Why or why not?\n"
   ]
  },
  {
   "cell_type": "code",
   "execution_count": 10,
   "metadata": {},
   "outputs": [
    {
     "name": "stdout",
     "output_type": "stream",
     "text": [
      "As they shape of the matrices are not equal (and none of them is 'one') they can not be added\n"
     ]
    }
   ],
   "source": [
    "# your answer here\n",
    "if np.shape(a) == np.shape(b):\n",
    "    np.add(a,b)\n",
    "else: print(\"As they shape of the matrices are not equal (and none of them is 'one') they can not be added\")"
   ]
  },
  {
   "cell_type": "markdown",
   "metadata": {},
   "source": [
    "#### 9. Transpose *b* so that it has the same structure of *a* (i.e. become a 2x3x5 array). Assign the transposed array to variable *c*."
   ]
  },
  {
   "cell_type": "code",
   "execution_count": 11,
   "metadata": {},
   "outputs": [
    {
     "data": {
      "text/plain": [
       "(2, 3, 5)"
      ]
     },
     "execution_count": 11,
     "metadata": {},
     "output_type": "execute_result"
    }
   ],
   "source": [
    "# your code here\n",
    "\n",
    "c = b.reshape(2,3,5)\n",
    "np.shape(c)"
   ]
  },
  {
   "cell_type": "markdown",
   "metadata": {},
   "source": [
    "#### 10. Try to add *a* and *c*. Now it should work. Assign the sum to variable *d*. But why does it work now?"
   ]
  },
  {
   "cell_type": "code",
   "execution_count": 12,
   "metadata": {},
   "outputs": [
    {
     "name": "stdout",
     "output_type": "stream",
     "text": [
      "They do have the same size, so they can be added\n"
     ]
    }
   ],
   "source": [
    "# your code/answer here\n",
    "if np.shape(a) == np.shape(c):\n",
    "    d = np.add(a,c)\n",
    "    print(\"They do have the same size, so they can be added\")\n",
    "else: print(\"They do not have the same size\")"
   ]
  },
  {
   "cell_type": "markdown",
   "metadata": {},
   "source": [
    "#### 11. Print *a* and *d*. Notice the difference and relation of the two array in terms of the values? Explain."
   ]
  },
  {
   "cell_type": "code",
   "execution_count": 21,
   "metadata": {},
   "outputs": [
    {
     "name": "stdout",
     "output_type": "stream",
     "text": [
      "[[[0.4863596  0.02844845 0.99599145 0.32329176 0.86755782]\n",
      "  [0.20076769 0.89749308 0.88480578 0.91370289 0.91713023]\n",
      "  [0.77402894 0.82650886 0.45105532 0.42033567 0.34015283]]\n",
      "\n",
      " [[0.14023427 0.17429746 0.59744036 0.86857336 0.91742186]\n",
      "  [0.20545632 0.46368593 0.47787408 0.83753284 0.97641213]\n",
      "  [0.47873022 0.86950503 0.17857959 0.17597742 0.16222638]]]\n",
      "\n",
      "[[[1.4863596  1.02844845 1.99599145 1.32329176 1.86755782]\n",
      "  [1.20076769 1.89749308 1.88480578 1.91370289 1.91713023]\n",
      "  [1.77402894 1.82650886 1.45105532 1.42033567 1.34015283]]\n",
      "\n",
      " [[1.14023427 1.17429746 1.59744036 1.86857336 1.91742186]\n",
      "  [1.20545632 1.46368593 1.47787408 1.83753284 1.97641213]\n",
      "  [1.47873022 1.86950503 1.17857959 1.17597742 1.16222638]]]\n"
     ]
    },
    {
     "data": {
      "text/plain": [
       "'Each element from the second array(d)\\nis the value of the same position\\nitem in a + the value of the same position \\nitem in b (that is always \"1\")'"
      ]
     },
     "execution_count": 21,
     "metadata": {},
     "output_type": "execute_result"
    }
   ],
   "source": [
    "# your code/answer here\n",
    "print(a)\n",
    "print(\"\")\n",
    "print(d)\n",
    "\n",
    "'''Each element from the second array(d)\n",
    "is the value of the same position\n",
    "item in a + the value of the same position \n",
    "item in b (that is always \"1\")'''"
   ]
  },
  {
   "cell_type": "markdown",
   "metadata": {},
   "source": [
    "#### 12. Multiply *a* and *c*. Assign the result to *e*."
   ]
  },
  {
   "cell_type": "code",
   "execution_count": 14,
   "metadata": {},
   "outputs": [],
   "source": [
    "# your code here\n",
    "e = np.multiply(a,c)"
   ]
  },
  {
   "cell_type": "markdown",
   "metadata": {},
   "source": [
    "#### 13. Does *e* equal to *a*? Why or why not?\n"
   ]
  },
  {
   "cell_type": "code",
   "execution_count": 15,
   "metadata": {},
   "outputs": [
    {
     "name": "stdout",
     "output_type": "stream",
     "text": [
      "Yes, as the matrix 'c' is composed by ones, a * 1 = a\n"
     ]
    }
   ],
   "source": [
    "# your code/answer here\n",
    "if (e==a).all():\n",
    "    print(\"Yes, as the matrix 'c' is composed by ones, a * 1 = a\")\n",
    "else: print(\"No\")"
   ]
  },
  {
   "cell_type": "markdown",
   "metadata": {},
   "source": [
    "#### 14. Identify the max, min, and mean values in *d*. Assign those values to variables *d_max*, *d_min* and *d_mean*."
   ]
  },
  {
   "cell_type": "code",
   "execution_count": 16,
   "metadata": {},
   "outputs": [
    {
     "name": "stdout",
     "output_type": "stream",
     "text": [
      "1.995991450843369 1.028448445564983 1.5617192535229796\n"
     ]
    }
   ],
   "source": [
    "# your code here\n",
    "d_max = np.amax(d)\n",
    "d_min = np.amin(d)\n",
    "d_mean = np.mean(d)\n",
    "print(d_max, d_min, d_mean)"
   ]
  },
  {
   "cell_type": "markdown",
   "metadata": {},
   "source": [
    "#### 15. Now we want to label the values in *d*. First create an empty array *f* with the same shape (i.e. 2x3x5) as *d* using `np.empty`.\n"
   ]
  },
  {
   "cell_type": "code",
   "execution_count": 17,
   "metadata": {
    "scrolled": true
   },
   "outputs": [
    {
     "name": "stdout",
     "output_type": "stream",
     "text": [
      "[[[1.4863596  1.02844845 1.99599145 1.32329176 1.86755782]\n",
      "  [1.20076769 1.89749308 1.88480578 1.91370289 1.91713023]\n",
      "  [1.77402894 1.82650886 1.45105532 1.42033567 1.34015283]]\n",
      "\n",
      " [[1.14023427 1.17429746 1.59744036 1.86857336 1.91742186]\n",
      "  [1.20545632 1.46368593 1.47787408 1.83753284 1.97641213]\n",
      "  [1.47873022 1.86950503 1.17857959 1.17597742 1.16222638]]]\n",
      "1.3401528276746086\n"
     ]
    }
   ],
   "source": [
    "# your code here\n",
    "f = np.empty([2, 3, 5])\n",
    "print(f)\n",
    "print(f[0][2][4])"
   ]
  },
  {
   "cell_type": "markdown",
   "metadata": {},
   "source": [
    "#### 16. Populate the values in *f*. \n",
    "\n",
    "For each value in *d*, if it's larger than *d_min* but smaller than *d_mean*, assign 25 to the corresponding value in *f*. If a value in *d* is larger than *d_mean* but smaller than *d_max*, assign 75 to the corresponding value in *f*. If a value equals to *d_mean*, assign 50 to the corresponding value in *f*. Assign 0 to the corresponding value(s) in *f* for *d_min* in *d*. Assign 100 to the corresponding value(s) in *f* for *d_max* in *d*. In the end, f should have only the following values: 0, 25, 50, 75, and 100.\n",
    "\n",
    "**Note**: you don't have to use Numpy in this question."
   ]
  },
  {
   "cell_type": "code",
   "execution_count": 18,
   "metadata": {},
   "outputs": [],
   "source": [
    "for x in np.ndenumerate(d):\n",
    "    if (x[1]) > d_min and (x[1]) < d_mean:\n",
    "        f[x[0][0]][x[0][1]][x[0][2]] = 25\n",
    "    elif (x[1]) > d_mean and (x[1]) < d_max:\n",
    "        f[x[0][0]][x[0][1]][x[0][2]] = 75\n",
    "    elif (x[1]) == d_min:\n",
    "        f[x[0][0]][x[0][1]][x[0][2]] = 0\n",
    "    elif (x[1])== d_mean:\n",
    "        f[x[0][0]][x[0][1]][x[0][2]] = 50\n",
    "    else:\n",
    "        f[x[0][0]][x[0][1]][x[0][2]] = 100"
   ]
  },
  {
   "cell_type": "markdown",
   "metadata": {},
   "source": [
    "#### 17. Print *d* and *f*. Do you have your expected *f*?\n",
    "For instance, if your *d* is:\n",
    "```python\n",
    "[[[1.85836099, 1.67064465, 1.62576044, 1.40243961, 1.88454931],\n",
    "[1.75354326, 1.69403643, 1.36729252, 1.61415071, 1.12104981],\n",
    "[1.72201435, 1.1862918 , 1.87078449, 1.7726778 , 1.88180042]],\n",
    "[[1.44747908, 1.31673383, 1.02000951, 1.52218947, 1.97066381],\n",
    "[1.79129243, 1.74983003, 1.96028037, 1.85166831, 1.65450881],\n",
    "[1.18068344, 1.9587381 , 1.00656599, 1.93402165, 1.73514584]]]\n",
    "```\n",
    "Your *f* should be:\n",
    "```python\n",
    "[[[ 75.,  75.,  75.,  25.,  75.],\n",
    "[ 75.,  75.,  25.,  25.,  25.],\n",
    "[ 75.,  25.,  75.,  75.,  75.]],\n",
    "[[ 25.,  25.,  25.,  25., 100.],\n",
    "[ 75.,  75.,  75.,  75.,  75.],\n",
    "[ 25.,  75.,   0.,  75.,  75.]]]\n",
    "```"
   ]
  },
  {
   "cell_type": "code",
   "execution_count": 19,
   "metadata": {},
   "outputs": [
    {
     "name": "stdout",
     "output_type": "stream",
     "text": [
      "[[[1.4863596  1.02844845 1.99599145 1.32329176 1.86755782]\n",
      "  [1.20076769 1.89749308 1.88480578 1.91370289 1.91713023]\n",
      "  [1.77402894 1.82650886 1.45105532 1.42033567 1.34015283]]\n",
      "\n",
      " [[1.14023427 1.17429746 1.59744036 1.86857336 1.91742186]\n",
      "  [1.20545632 1.46368593 1.47787408 1.83753284 1.97641213]\n",
      "  [1.47873022 1.86950503 1.17857959 1.17597742 1.16222638]]]\n",
      "\n",
      "[[[ 25.   0. 100.  25.  75.]\n",
      "  [ 25.  75.  75.  75.  75.]\n",
      "  [ 75.  75.  25.  25.  25.]]\n",
      "\n",
      " [[ 25.  25.  75.  75.  75.]\n",
      "  [ 25.  25.  25.  75.  75.]\n",
      "  [ 25.  75.  25.  25.  25.]]]\n"
     ]
    }
   ],
   "source": [
    "# your code here\n",
    "print(d)\n",
    "print(\"\")\n",
    "print(f)"
   ]
  },
  {
   "cell_type": "markdown",
   "metadata": {},
   "source": [
    "#### 18. Bonus question: instead of using numbers (i.e. 0, 25, 50, 75, and 100), use string values  (\"A\", \"B\", \"C\", \"D\", and \"E\") to label the array elements. For the example above, the expected result is:\n",
    "\n",
    "```python\n",
    "[[[ 'D',  'D',  'D',  'B',  'D'],\n",
    "[ 'D',  'D',  'B',  'B',  'B'],\n",
    "[ 'D',  'B',  'D',  'D',  'D']],\n",
    "[[ 'B',  'B',  'B',  'B',  'E'],\n",
    "[ 'D',  'D',  'D',  'D',  'D'],\n",
    "[ 'B',  'D',   'A',  'D', 'D']]]\n",
    "```\n",
    "**Note**: you don't have to use Numpy in this question."
   ]
  },
  {
   "cell_type": "code",
   "execution_count": 29,
   "metadata": {},
   "outputs": [
    {
     "name": "stdout",
     "output_type": "stream",
     "text": [
      "[[['B' 'A' 'E' 'B' 'D']\n",
      "  ['B' 'D' 'D' 'D' 'D']\n",
      "  ['D' 'D' 'B' 'B' 'B']]\n",
      "\n",
      " [['B' 'B' 'D' 'D' 'D']\n",
      "  ['B' 'B' 'B' 'D' 'D']\n",
      "  ['B' 'D' 'B' 'B' 'B']]]\n"
     ]
    }
   ],
   "source": [
    "# your code here\n",
    "str_array = np.empty([2,3,5], dtype=str)\n",
    "for x in np.ndenumerate(d):\n",
    "    if (x[1]) > d_min and (x[1]) < d_mean:\n",
    "        str_array[x[0][0]][x[0][1]][x[0][2]] = 'B'\n",
    "    elif (x[1]) > d_mean and (x[1]) < d_max:\n",
    "        str_array[x[0][0]][x[0][1]][x[0][2]] = 'D'\n",
    "    elif (x[1]) == d_min:\n",
    "        str_array[x[0][0]][x[0][1]][x[0][2]] = 'A'\n",
    "    elif (x[1])== d_mean:\n",
    "        str_array[x[0][0]][x[0][1]][x[0][2]] = 'C'\n",
    "    else:\n",
    "        str_array[x[0][0]][x[0][1]][x[0][2]] = 'E'\n",
    "print(str_array)"
   ]
  }
 ],
 "metadata": {
  "kernelspec": {
   "display_name": "Python 3",
   "language": "python",
   "name": "python3"
  },
  "language_info": {
   "codemirror_mode": {
    "name": "ipython",
    "version": 3
   },
   "file_extension": ".py",
   "mimetype": "text/x-python",
   "name": "python",
   "nbconvert_exporter": "python",
   "pygments_lexer": "ipython3",
   "version": "3.6.8"
  }
 },
 "nbformat": 4,
 "nbformat_minor": 2
}
